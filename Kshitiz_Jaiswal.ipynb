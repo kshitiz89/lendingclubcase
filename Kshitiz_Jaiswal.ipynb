{
 "cells": [
  {
   "cell_type": "markdown",
   "id": "e4b06cec",
   "metadata": {},
   "source": [
    "## Problem statement"
   ]
  },
  {
   "cell_type": "markdown",
   "id": "326bfce2",
   "metadata": {},
   "source": [
    "# Intial setup of python Libraries for Data and Visualization"
   ]
  },
  {
   "cell_type": "code",
   "execution_count": 127,
   "id": "fb6442df",
   "metadata": {},
   "outputs": [],
   "source": [
    "import numpy as np\n",
    "import pandas as pd\n",
    "import matplotlib.pyplot as plot\n",
    "import seaborn as sea"
   ]
  },
  {
   "cell_type": "code",
   "execution_count": 128,
   "id": "4b668ec9",
   "metadata": {
    "scrolled": true
   },
   "outputs": [],
   "source": [
    "# Fixing the warning by specifying dtype = object\n",
    "pd.set_option('display.max_columns', None)\n",
    "pd.set_option('display.max_rows', 50)\n",
    "pd.set_option('display.width', 120)\n",
    "\n",
    "loan_data_df = pd.read_csv('loan.csv', dtype=object)\n",
    "loan_detail_df = pd.read_excel('Data_Dictionary.xlsx')"
   ]
  },
  {
   "cell_type": "markdown",
   "id": "68f2594d",
   "metadata": {},
   "source": [
    "# Reading Loan DF and creating Metadata"
   ]
  },
  {
   "cell_type": "code",
   "execution_count": 129,
   "id": "9a058de6",
   "metadata": {
    "scrolled": true
   },
   "outputs": [
    {
     "name": "stdout",
     "output_type": "stream",
     "text": [
      "Loan data shape: (39717, 111)\n",
      "Loan data information\n",
      "<class 'pandas.core.frame.DataFrame'>\n",
      "RangeIndex: 39717 entries, 0 to 39716\n",
      "Columns: 111 entries, id to total_il_high_credit_limit\n",
      "dtypes: object(111)\n",
      "memory usage: 33.6+ MB\n",
      "None\n"
     ]
    }
   ],
   "source": [
    "print(\"Loan data shape:\",loan_data_df.shape)\n",
    "print(\"Loan data information\")\n",
    "print(loan_data_df.info())"
   ]
  },
  {
   "cell_type": "markdown",
   "id": "ac8024f6",
   "metadata": {},
   "source": [
    "\n",
    "\n",
    "## Remove Outliners\n",
    "    Find the median,Q1,Q3 and IQR\n",
    "    min Outliners = Q1 - 1.5*IQR\n",
    "    max Outliners = Q3 + 1.5*IQR\n",
    "\n",
    "## Standardising Value\n",
    "    Numerical values\n",
    "    Standardise units\n",
    "    Scale values if required\n",
    "    Standardise precision for better presentation of data, e.g. 4.5312341 kgs to 4.53 kgs.\n",
    "    Remove outliers\n",
    "    Remove extra characters like common prefix/suffix, leading/trailing/multiple spaces, etc. \n",
    "    Standardise case\n",
    "    Standardise format\n",
    "## Invalid values\n",
    "    Encode unicode properly \n",
    "    Correct the incorrect data types to the correct data types for ease of analysis.\n",
    "    Correct values that go beyond range\n",
    "    Correct values not in the list\n",
    "    Remove values that don’t belong to a list\n",
    "    Correct wrong structure\n",
    "    Validate internal rules"
   ]
  },
  {
   "cell_type": "code",
   "execution_count": 130,
   "id": "0ee94918",
   "metadata": {},
   "outputs": [
    {
     "name": "stdout",
     "output_type": "stream",
     "text": [
      "Number of Columns 111\n",
      "Number of rows 39717\n",
      "Duplicate value in Loan data 0\n",
      "Number of columns with null values 54\n",
      "Number of rows with null values 0\n"
     ]
    }
   ],
   "source": [
    "#number of columns in Loan data\n",
    "print(\"Number of Columns\", loan_data_df.shape[1])\n",
    "#number of rows in Loan data\n",
    "print(\"Number of rows\", loan_data_df.shape[0])\n",
    "#number of duplicate values\n",
    "print(\"Duplicate value in Loan data\", loan_data_df.duplicated().sum())\n",
    "#number of columns with only null value\n",
    "print(\"Number of columns with null values\",(loan_data_df.isnull().all(axis=0).sum()))\n",
    "#numbers of rows with only null values\n",
    "print(\"Number of rows with null values\",(loan_data_df.isnull().all(axis=1).sum()))\n"
   ]
  },
  {
   "cell_type": "markdown",
   "id": "03a3766f",
   "metadata": {},
   "source": [
    "## Data Cleaning\n",
    "    Row Cleaning\n",
    "        Delete summary row if any\n",
    "        delete incorrect row\n",
    "        delete empty row\n",
    "        delete incorrect row\n",
    "    Checklist for Fixing Columns\n",
    "        Merge columns for creating unique identifiers if needed\n",
    "        Split columns for more data: Split address to get State and City to analyse each separately\n",
    "        Add column names: Add column names if missing\n",
    "        Rename columns consistently: Abbreviations, encoded columns\n",
    "        Delete columns: Delete unnecessary columns\n",
    "        Align misaligned columns: Dataset may have shifted columns"
   ]
  },
  {
   "cell_type": "code",
   "execution_count": 131,
   "id": "e654c92f",
   "metadata": {},
   "outputs": [],
   "source": [
    "#delete the Loan columns containing only null values\n",
    "loan_data_df.dropna(axis=1,how='all',inplace=True)"
   ]
  },
  {
   "cell_type": "code",
   "execution_count": 132,
   "id": "20b464ba",
   "metadata": {},
   "outputs": [
    {
     "data": {
      "text/plain": [
       "id                                0\n",
       "dti                               0\n",
       "delinq_2yrs                       0\n",
       "earliest_cr_line                  0\n",
       "inq_last_6mths                    0\n",
       "policy_code                       0\n",
       "open_acc                          0\n",
       "pub_rec                           0\n",
       "revol_bal                         0\n",
       "addr_state                        0\n",
       "last_pymnt_amnt                   0\n",
       "initial_list_status               0\n",
       "out_prncp                         0\n",
       "out_prncp_inv                     0\n",
       "total_pymnt                       0\n",
       "total_pymnt_inv                   0\n",
       "total_rec_prncp                   0\n",
       "total_rec_int                     0\n",
       "total_rec_late_fee                0\n",
       "total_acc                         0\n",
       "recoveries                        0\n",
       "zip_code                          0\n",
       "purpose                           0\n",
       "member_id                         0\n",
       "loan_amnt                         0\n",
       "funded_amnt                       0\n",
       "funded_amnt_inv                   0\n",
       "term                              0\n",
       "int_rate                          0\n",
       "installment                       0\n",
       "grade                             0\n",
       "sub_grade                         0\n",
       "delinq_amnt                       0\n",
       "home_ownership                    0\n",
       "annual_inc                        0\n",
       "verification_status               0\n",
       "issue_d                           0\n",
       "loan_status                       0\n",
       "pymnt_plan                        0\n",
       "url                               0\n",
       "application_type                  0\n",
       "acc_now_delinq                    0\n",
       "collection_recovery_fee           0\n",
       "last_credit_pull_d                2\n",
       "title                            11\n",
       "tax_liens                        39\n",
       "revol_util                       50\n",
       "collections_12_mths_ex_med       56\n",
       "chargeoff_within_12_mths         56\n",
       "last_pymnt_d                     71\n",
       "pub_rec_bankruptcies            697\n",
       "emp_length                     1075\n",
       "emp_title                      2459\n",
       "desc                          12940\n",
       "mths_since_last_delinq        25682\n",
       "mths_since_last_record        36931\n",
       "next_pymnt_d                  38577\n",
       "dtype: int64"
      ]
     },
     "execution_count": 132,
     "metadata": {},
     "output_type": "execute_result"
    }
   ],
   "source": [
    "#set to display maximum rows\n",
    "pd.set_option('display.max_rows', None)\n",
    "(loan_data_df.isna().sum()).sort_values()"
   ]
  },
  {
   "cell_type": "code",
   "execution_count": 133,
   "id": "81886152",
   "metadata": {},
   "outputs": [],
   "source": [
    "#dropping off columns with maximum values as null\n",
    "columns_to_drop = ['desc','mths_since_last_delinq','mths_since_last_record','next_pymnt_d']\n",
    "loan_data_df.drop(columns_to_drop,axis=1,inplace=True)"
   ]
  },
  {
   "cell_type": "markdown",
   "id": "2e8cd10b",
   "metadata": {},
   "source": [
    "## Check the dataframe with unique values"
   ]
  },
  {
   "cell_type": "code",
   "execution_count": 90,
   "id": "b92e2ae0",
   "metadata": {
    "scrolled": true
   },
   "outputs": [
    {
     "data": {
      "text/plain": [
       "tax_liens                         1\n",
       "delinq_amnt                       1\n",
       "chargeoff_within_12_mths          1\n",
       "acc_now_delinq                    1\n",
       "application_type                  1\n",
       "policy_code                       1\n",
       "collections_12_mths_ex_med        1\n",
       "initial_list_status               1\n",
       "pymnt_plan                        1\n",
       "term                              2\n",
       "pub_rec_bankruptcies              3\n",
       "verification_status               3\n",
       "loan_status                       3\n",
       "pub_rec                           5\n",
       "home_ownership                    5\n",
       "grade                             7\n",
       "inq_last_6mths                    9\n",
       "delinq_2yrs                      11\n",
       "emp_length                       11\n",
       "purpose                          14\n",
       "sub_grade                        35\n",
       "open_acc                         40\n",
       "addr_state                       50\n",
       "issue_d                          55\n",
       "total_acc                        82\n",
       "last_pymnt_d                    101\n",
       "last_credit_pull_d              106\n",
       "int_rate                        371\n",
       "earliest_cr_line                526\n",
       "zip_code                        823\n",
       "loan_amnt                       885\n",
       "funded_amnt                    1041\n",
       "revol_util                     1089\n",
       "out_prncp                      1137\n",
       "out_prncp_inv                  1138\n",
       "total_rec_late_fee             1356\n",
       "collection_recovery_fee        2616\n",
       "dti                            2868\n",
       "recoveries                     4040\n",
       "annual_inc                     5318\n",
       "total_rec_prncp                7976\n",
       "funded_amnt_inv                8205\n",
       "installment                   15383\n",
       "title                         19615\n",
       "revol_bal                     21711\n",
       "emp_title                     28820\n",
       "last_pymnt_amnt               34930\n",
       "total_rec_int                 35148\n",
       "total_pymnt_inv               37518\n",
       "total_pymnt                   37850\n",
       "url                           39717\n",
       "member_id                     39717\n",
       "id                            39717\n",
       "dtype: int64"
      ]
     },
     "execution_count": 90,
     "metadata": {},
     "output_type": "execute_result"
    }
   ],
   "source": [
    "loan_data_df.apply(lambda x: x.nunique()).sort_values()"
   ]
  },
  {
   "cell_type": "markdown",
   "id": "bb18ef89",
   "metadata": {},
   "source": [
    "## Based on the result of nunique method, below columns were identified with same values\n",
    "1.tax_liens                         1\n",
    "2.delinq_amnt                       1\n",
    "3.chargeoff_within_12_mths          1\n",
    "4.acc_now_delinq                    1\n",
    "5.application_type                  1\n",
    "6.policy_code                       1\n",
    "7.collections_12_mths_ex_med        1\n",
    "8.initial_list_status               1\n",
    "9.pymnt_plan                        1\n",
    "\n",
    "Reading from the loan data dictonary above columns might be important but not this data sets due to common values for all the records, hence deleting these columns"
   ]
  },
  {
   "cell_type": "code",
   "execution_count": 134,
   "id": "acf72b6c",
   "metadata": {},
   "outputs": [],
   "source": [
    "nunique_loan_columns = ['tax_liens','delinq_amnt','chargeoff_within_12_mths','acc_now_delinq','application_type','policy_code'\n",
    "             ,'collections_12_mths_ex_med','initial_list_status','pymnt_plan']\n",
    "loan_data_df.drop(columns=nunique_loan_columns,axis=1,inplace=True)"
   ]
  },
  {
   "cell_type": "code",
   "execution_count": 135,
   "id": "89ac645b",
   "metadata": {},
   "outputs": [],
   "source": [
    "#on further analysis of columns, we can drop the \n",
    "# zip_code - Does not have the full zip-code and the xx - value code be either same or different\n",
    "# url - Does not provide relevant information\n",
    "# member_id - this dataframe contain unique values only, so we can drop it as well\n",
    "# emp_title - the are text and does not contribute \n",
    "nonrelevant_loan_column_values = ['zip_code','url','member_id','emp_title']\n",
    "loan_data_df.drop(columns=nonrelevant_loan_column_values,axis=1,inplace=True)"
   ]
  },
  {
   "cell_type": "markdown",
   "id": "9b0bc491",
   "metadata": {},
   "source": [
    "## Standarization of Columns"
   ]
  },
  {
   "cell_type": "code",
   "execution_count": 136,
   "id": "fba3dd6c",
   "metadata": {},
   "outputs": [],
   "source": [
    "# updating the NAN value available in different columns to clean values\n",
    "# pub_rec_bankruptcies - update the values with 'Not Available'\n",
    "# emp_length - format the employee length correctly to Numerics values\n",
    "loan_data_df.pub_rec_bankruptcies.fillna('Not Available',inplace=True)\n",
    "loan_data_df.emp_length.fillna('0',inplace=True)\n",
    "loan_data_df['emp_length'] = loan_data_df['emp_length'].apply(lambda x : x.replace('years','')\n",
    "                                             .replace('+','')\n",
    "                                             .replace('< 1','0.5')\n",
    "                                             .replace('year',''))"
   ]
  },
  {
   "cell_type": "code",
   "execution_count": 137,
   "id": "b2199c7f",
   "metadata": {},
   "outputs": [],
   "source": [
    "# Now that we have filtered out -irrelevant columns, let check and clean the columns values\n",
    "# int_rate - remove % symbol, check dtype if object convert it to float\n",
    "# revol_util - remove % symbol, check dtype if object convert it to float\n",
    "# term - remove months from the term value\n",
    "# emp_length - formatting the columns valye\n",
    "loan_data_df['int_rate'] = loan_data_df['int_rate'].str.rstrip('%')\n",
    "loan_data_df['revol_util'] = loan_data_df['revol_util'].str.rstrip('%')\n",
    "loan_data_df['term'] = loan_data_df['term'].str.rstrip('months')\n"
   ]
  },
  {
   "cell_type": "markdown",
   "id": "cb53c504",
   "metadata": {},
   "source": [
    "## Update the amount columns to numeric values"
   ]
  },
  {
   "cell_type": "code",
   "execution_count": 138,
   "id": "756a385c",
   "metadata": {},
   "outputs": [],
   "source": [
    "# updating object type to numeric for amount columns\n",
    "numeric_columns = ['loan_amnt','funded_amnt','funded_amnt_inv','installment','annual_inc','revol_bal',\n",
    "                   'total_pymnt','total_pymnt_inv','total_rec_prncp','total_rec_int']\n",
    "loan_data_df[numeric_columns] = loan_data_df[numeric_columns].apply(pd.to_numeric)"
   ]
  },
  {
   "cell_type": "code",
   "execution_count": 143,
   "id": "64cea85b",
   "metadata": {
    "scrolled": true
   },
   "outputs": [
    {
     "data": {
      "text/html": [
       "<div>\n",
       "<style scoped>\n",
       "    .dataframe tbody tr th:only-of-type {\n",
       "        vertical-align: middle;\n",
       "    }\n",
       "\n",
       "    .dataframe tbody tr th {\n",
       "        vertical-align: top;\n",
       "    }\n",
       "\n",
       "    .dataframe thead th {\n",
       "        text-align: right;\n",
       "    }\n",
       "</style>\n",
       "<table border=\"1\" class=\"dataframe\">\n",
       "  <thead>\n",
       "    <tr style=\"text-align: right;\">\n",
       "      <th></th>\n",
       "      <th>id</th>\n",
       "      <th>loan_amnt</th>\n",
       "      <th>funded_amnt</th>\n",
       "      <th>funded_amnt_inv</th>\n",
       "      <th>term</th>\n",
       "      <th>int_rate</th>\n",
       "      <th>installment</th>\n",
       "      <th>grade</th>\n",
       "      <th>sub_grade</th>\n",
       "      <th>emp_length</th>\n",
       "      <th>home_ownership</th>\n",
       "      <th>annual_inc</th>\n",
       "      <th>verification_status</th>\n",
       "      <th>issue_d</th>\n",
       "      <th>loan_status</th>\n",
       "      <th>purpose</th>\n",
       "      <th>title</th>\n",
       "      <th>addr_state</th>\n",
       "      <th>dti</th>\n",
       "      <th>delinq_2yrs</th>\n",
       "      <th>earliest_cr_line</th>\n",
       "      <th>inq_last_6mths</th>\n",
       "      <th>open_acc</th>\n",
       "      <th>pub_rec</th>\n",
       "      <th>revol_bal</th>\n",
       "      <th>revol_util</th>\n",
       "      <th>total_acc</th>\n",
       "      <th>out_prncp</th>\n",
       "      <th>out_prncp_inv</th>\n",
       "      <th>total_pymnt</th>\n",
       "      <th>total_pymnt_inv</th>\n",
       "      <th>total_rec_prncp</th>\n",
       "      <th>total_rec_int</th>\n",
       "      <th>total_rec_late_fee</th>\n",
       "      <th>recoveries</th>\n",
       "      <th>collection_recovery_fee</th>\n",
       "      <th>last_pymnt_d</th>\n",
       "      <th>last_pymnt_amnt</th>\n",
       "      <th>last_credit_pull_d</th>\n",
       "      <th>pub_rec_bankruptcies</th>\n",
       "    </tr>\n",
       "  </thead>\n",
       "  <tbody>\n",
       "  </tbody>\n",
       "</table>\n",
       "</div>"
      ],
      "text/plain": [
       "Empty DataFrame\n",
       "Columns: [id, loan_amnt, funded_amnt, funded_amnt_inv, term, int_rate, installment, grade, sub_grade, emp_length, home_ownership, annual_inc, verification_status, issue_d, loan_status, purpose, title, addr_state, dti, delinq_2yrs, earliest_cr_line, inq_last_6mths, open_acc, pub_rec, revol_bal, revol_util, total_acc, out_prncp, out_prncp_inv, total_pymnt, total_pymnt_inv, total_rec_prncp, total_rec_int, total_rec_late_fee, recoveries, collection_recovery_fee, last_pymnt_d, last_pymnt_amnt, last_credit_pull_d, pub_rec_bankruptcies]\n",
       "Index: []"
      ]
     },
     "execution_count": 143,
     "metadata": {},
     "output_type": "execute_result"
    }
   ],
   "source": [
    "loan_data_df.head()"
   ]
  },
  {
   "cell_type": "markdown",
   "id": "37237047",
   "metadata": {},
   "source": [
    "## Find the outliners in loan_amount\n",
    "\n",
    "Find the median,Q1,Q3 and IQR </br>\n",
    "min Outliners = Q1 - 1.5*IQR </br>\n",
    "max Outliners = Q3 + 1.5*IQR </br>"
   ]
  },
  {
   "cell_type": "code",
   "execution_count": 140,
   "id": "74138f75",
   "metadata": {},
   "outputs": [],
   "source": [
    "# common function to find the outliers\n",
    "# Find the median,Q1,Q3 and IQR\n",
    "# min Outliners = Q1 - 1.5IQR\n",
    "# max Outliners = Q3 + 1.5IQR\n",
    "\n",
    "def findOutliers(df, column ):\n",
    "    quat1 = df[column].quantile(0.25)\n",
    "    quat3 = df[column].quantile(0.75)\n",
    "    iqr = quat3 - quat1\n",
    "    min_outliner = loan_q1 - (1.5*loan_q1)\n",
    "    max_outliner = loan_q3 - (1.5*loan_q3)\n",
    "\n",
    "    return {'quat1': quat1, 'quat3': quat3, 'iqr': iqr, 'min_outliner': min_outliner, 'max_outliner': max_outliner}\n",
    "\n",
    "def compareOutliers(df,column):\n",
    "    \n",
    "    # box plot before dropping outliers\n",
    "    #fig, p = plot.subplots(1,2,figsize=(14, 3))\n",
    "    splot1 = sea.boxplot(x = df[column])\n",
    "    #splot1.set_title('Plot ['+ column + '] - Original')\n",
    "    new_df = df[df[column] < findOutliers(df, column)['max_outliner']]\n",
    "    # box plot after dropping outliers    \n",
    "    splot2 = sea.boxplot(x = new_df[column])\n",
    "    #splot2.set_title('Plot [' + column + '] - Post Outlier Treatment')\n",
    "    #plot.tight_layout()\n",
    "    plot.show()\n",
    "    \n",
    "\n",
    "def deleteMaxOutliers(df,column):\n",
    "    new_df = df[df[column] < findOutliers(df, column)['max_outliner']]\n",
    "    return new_df\n",
    "\n",
    "def deleteMinOutliers(df,column):\n",
    "    new_df = df[df[column] > findOutliers(df, column)['min_outliner']]\n",
    "    return new_df\n"
   ]
  },
  {
   "cell_type": "markdown",
   "id": "204b82f4",
   "metadata": {},
   "source": [
    "## Removing Outliers"
   ]
  },
  {
   "cell_type": "code",
   "execution_count": 141,
   "id": "0abed12a",
   "metadata": {},
   "outputs": [],
   "source": [
    "# columns subject to outliers are\n",
    "# loan_amnt,funded_amnt,funded_amnt_inv,int_rate,installment,annual_inc,dti\n",
    "# removing outliers from above columns for better analysis\n",
    "\n",
    "outliers_columns = ['loan_amnt','funded_amnt','funded_amnt_inv','int_rate','installment','annual_inc','dti']\n",
    "for column in outliers_columns:\n",
    "    #compareOutliers(loan_data_df,column)\n",
    "    loan_data_df = deleteMaxOutliers(loan_data_df,column)\n"
   ]
  },
  {
   "cell_type": "code",
   "execution_count": 142,
   "id": "3d0cd4f6",
   "metadata": {},
   "outputs": [
    {
     "data": {
      "text/html": [
       "<div>\n",
       "<style scoped>\n",
       "    .dataframe tbody tr th:only-of-type {\n",
       "        vertical-align: middle;\n",
       "    }\n",
       "\n",
       "    .dataframe tbody tr th {\n",
       "        vertical-align: top;\n",
       "    }\n",
       "\n",
       "    .dataframe thead th {\n",
       "        text-align: right;\n",
       "    }\n",
       "</style>\n",
       "<table border=\"1\" class=\"dataframe\">\n",
       "  <thead>\n",
       "    <tr style=\"text-align: right;\">\n",
       "      <th></th>\n",
       "      <th>id</th>\n",
       "      <th>loan_amnt</th>\n",
       "      <th>funded_amnt</th>\n",
       "      <th>funded_amnt_inv</th>\n",
       "      <th>term</th>\n",
       "      <th>int_rate</th>\n",
       "      <th>installment</th>\n",
       "      <th>grade</th>\n",
       "      <th>sub_grade</th>\n",
       "      <th>emp_length</th>\n",
       "      <th>home_ownership</th>\n",
       "      <th>annual_inc</th>\n",
       "      <th>verification_status</th>\n",
       "      <th>issue_d</th>\n",
       "      <th>loan_status</th>\n",
       "      <th>purpose</th>\n",
       "      <th>title</th>\n",
       "      <th>addr_state</th>\n",
       "      <th>dti</th>\n",
       "      <th>delinq_2yrs</th>\n",
       "      <th>earliest_cr_line</th>\n",
       "      <th>inq_last_6mths</th>\n",
       "      <th>open_acc</th>\n",
       "      <th>pub_rec</th>\n",
       "      <th>revol_bal</th>\n",
       "      <th>revol_util</th>\n",
       "      <th>total_acc</th>\n",
       "      <th>out_prncp</th>\n",
       "      <th>out_prncp_inv</th>\n",
       "      <th>total_pymnt</th>\n",
       "      <th>total_pymnt_inv</th>\n",
       "      <th>total_rec_prncp</th>\n",
       "      <th>total_rec_int</th>\n",
       "      <th>total_rec_late_fee</th>\n",
       "      <th>recoveries</th>\n",
       "      <th>collection_recovery_fee</th>\n",
       "      <th>last_pymnt_d</th>\n",
       "      <th>last_pymnt_amnt</th>\n",
       "      <th>last_credit_pull_d</th>\n",
       "      <th>pub_rec_bankruptcies</th>\n",
       "    </tr>\n",
       "  </thead>\n",
       "  <tbody>\n",
       "  </tbody>\n",
       "</table>\n",
       "</div>"
      ],
      "text/plain": [
       "Empty DataFrame\n",
       "Columns: [id, loan_amnt, funded_amnt, funded_amnt_inv, term, int_rate, installment, grade, sub_grade, emp_length, home_ownership, annual_inc, verification_status, issue_d, loan_status, purpose, title, addr_state, dti, delinq_2yrs, earliest_cr_line, inq_last_6mths, open_acc, pub_rec, revol_bal, revol_util, total_acc, out_prncp, out_prncp_inv, total_pymnt, total_pymnt_inv, total_rec_prncp, total_rec_int, total_rec_late_fee, recoveries, collection_recovery_fee, last_pymnt_d, last_pymnt_amnt, last_credit_pull_d, pub_rec_bankruptcies]\n",
       "Index: []"
      ]
     },
     "execution_count": 142,
     "metadata": {},
     "output_type": "execute_result"
    }
   ],
   "source": [
    "loan_data_df.head()"
   ]
  },
  {
   "cell_type": "code",
   "execution_count": null,
   "id": "7d7fe9d8",
   "metadata": {},
   "outputs": [],
   "source": []
  },
  {
   "cell_type": "code",
   "execution_count": null,
   "id": "9b9a3e81",
   "metadata": {},
   "outputs": [],
   "source": []
  },
  {
   "cell_type": "code",
   "execution_count": null,
   "id": "e251fbac",
   "metadata": {},
   "outputs": [],
   "source": []
  },
  {
   "cell_type": "markdown",
   "id": "ebc72caa",
   "metadata": {},
   "source": [
    "## Derived columns"
   ]
  },
  {
   "cell_type": "code",
   "execution_count": 22,
   "id": "203e0acc",
   "metadata": {},
   "outputs": [],
   "source": [
    "# deriving year and month from loan issue dates so that, we can generate new dervied columns by binning the values\n",
    "\n",
    "loan_data_df['issue_d'] = pd.to_datetime(loan_data_df.issue_d, format='%b-%y')\n",
    "loan_data_df['issued_year'] = pd.DatetimeIndex(loan_data_df['issue_d']).year\n",
    "loan_data_df['issued_month'] = pd.DatetimeIndex(loan_data_df['issue_d']).month"
   ]
  },
  {
   "cell_type": "code",
   "execution_count": null,
   "id": "48d57fd1",
   "metadata": {},
   "outputs": [],
   "source": [
    "# binning the month columns to create new derieved cloumns 'quarters'\n",
    "\n",
    "loan_data_df[]\n"
   ]
  }
 ],
 "metadata": {
  "kernelspec": {
   "display_name": "Python 3 (ipykernel)",
   "language": "python",
   "name": "python3"
  },
  "language_info": {
   "codemirror_mode": {
    "name": "ipython",
    "version": 3
   },
   "file_extension": ".py",
   "mimetype": "text/x-python",
   "name": "python",
   "nbconvert_exporter": "python",
   "pygments_lexer": "ipython3",
   "version": "3.11.3"
  }
 },
 "nbformat": 4,
 "nbformat_minor": 5
}

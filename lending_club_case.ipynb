import numpy as np
import pandas as pd
import matplotlib.pyplot as plt
import seaborn as sns

def add (x,y) :
    ''' doc
    return x+y
